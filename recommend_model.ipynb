{
  "nbformat": 4,
  "nbformat_minor": 0,
  "metadata": {
    "colab": {
      "provenance": []
    },
    "kernelspec": {
      "name": "python3",
      "display_name": "Python 3"
    },
    "language_info": {
      "name": "python"
    }
  },
  "cells": [
    {
      "cell_type": "code",
      "source": [
        "# konlpy, gensim 라이브러리 설치\n",
        "!apt-get update\n",
        "!apt-get install g++ openjdk-8-jdk python3-dev python3-pip curl\n",
        "!python3 -m pip install --upgrade pip\n",
        "!python3 -m pip install konlpy\n",
        "!curl -s https://raw.githubusercontent.com/konlpy/konlpy/master/scripts/mecab.sh | bash -s\n",
        "!pip install gensim"
      ],
      "metadata": {
        "colab": {
          "base_uri": "https://localhost:8080/"
        },
        "id": "yrYI5KFKHRMQ",
        "outputId": "82a1b830-5b75-45ad-a039-bd2fb1bc873a"
      },
      "execution_count": 34,
      "outputs": [
        {
          "output_type": "stream",
          "name": "stdout",
          "text": [
            "\r0% [Working]\r            \rHit:1 https://cloud.r-project.org/bin/linux/ubuntu jammy-cran40/ InRelease\n",
            "\r0% [Connecting to archive.ubuntu.com] [Connecting to security.ubuntu.com (185.125.190.39)] [Connecti\r                                                                                                    \rHit:2 https://developer.download.nvidia.com/compute/cuda/repos/ubuntu2204/x86_64  InRelease\n",
            "Get:3 http://security.ubuntu.com/ubuntu jammy-security InRelease [110 kB]\n",
            "Hit:4 http://archive.ubuntu.com/ubuntu jammy InRelease\n",
            "Get:5 http://archive.ubuntu.com/ubuntu jammy-updates InRelease [119 kB]\n",
            "Hit:6 https://ppa.launchpadcontent.net/c2d4u.team/c2d4u4.0+/ubuntu jammy InRelease\n",
            "Get:7 http://archive.ubuntu.com/ubuntu jammy-backports InRelease [109 kB]\n",
            "Hit:8 https://ppa.launchpadcontent.net/deadsnakes/ppa/ubuntu jammy InRelease\n",
            "Hit:9 https://ppa.launchpadcontent.net/graphics-drivers/ppa/ubuntu jammy InRelease\n",
            "Hit:10 https://ppa.launchpadcontent.net/ubuntugis/ppa/ubuntu jammy InRelease\n",
            "Fetched 338 kB in 1s (233 kB/s)\n",
            "Reading package lists... Done\n",
            "Reading package lists... Done\n",
            "Building dependency tree... Done\n",
            "Reading state information... Done\n",
            "g++ is already the newest version (4:11.2.0-1ubuntu1).\n",
            "curl is already the newest version (7.81.0-1ubuntu1.14).\n",
            "python3-dev is already the newest version (3.10.6-1~22.04).\n",
            "openjdk-8-jdk is already the newest version (8u382-ga-1~22.04.1).\n",
            "python3-pip is already the newest version (22.0.2+dfsg-1ubuntu0.3).\n",
            "0 upgraded, 0 newly installed, 0 to remove and 30 not upgraded.\n",
            "Requirement already satisfied: pip in /usr/local/lib/python3.10/dist-packages (23.3.1)\n",
            "\u001b[33mWARNING: Running pip as the 'root' user can result in broken permissions and conflicting behaviour with the system package manager. It is recommended to use a virtual environment instead: https://pip.pypa.io/warnings/venv\u001b[0m\u001b[33m\n",
            "\u001b[0mRequirement already satisfied: konlpy in /usr/local/lib/python3.10/dist-packages (0.6.0)\n",
            "Requirement already satisfied: JPype1>=0.7.0 in /usr/local/lib/python3.10/dist-packages (from konlpy) (1.4.1)\n",
            "Requirement already satisfied: lxml>=4.1.0 in /usr/local/lib/python3.10/dist-packages (from konlpy) (4.9.3)\n",
            "Requirement already satisfied: numpy>=1.6 in /usr/local/lib/python3.10/dist-packages (from konlpy) (1.23.5)\n",
            "Requirement already satisfied: packaging in /usr/local/lib/python3.10/dist-packages (from JPype1>=0.7.0->konlpy) (23.2)\n",
            "\u001b[33mWARNING: Running pip as the 'root' user can result in broken permissions and conflicting behaviour with the system package manager. It is recommended to use a virtual environment instead: https://pip.pypa.io/warnings/venv\u001b[0m\u001b[33m\n",
            "\u001b[0mmecab-ko is already installed\n",
            "mecab-ko-dic is already installed\n",
            "Install mecab-python\n",
            "/tmp /content\n",
            "/content\n",
            "Processing /tmp/mecab-python-0.996\n",
            "  \u001b[1;31merror\u001b[0m: \u001b[1msubprocess-exited-with-error\u001b[0m\n",
            "  \n",
            "  \u001b[31m×\u001b[0m \u001b[32mpython setup.py egg_info\u001b[0m did not run successfully.\n",
            "  \u001b[31m│\u001b[0m exit code: \u001b[1;36m1\u001b[0m\n",
            "  \u001b[31m╰─>\u001b[0m See above for output.\n",
            "  \n",
            "  \u001b[1;35mnote\u001b[0m: This error originates from a subprocess, and is likely not a problem with pip.\n",
            "  Preparing metadata (setup.py) ... \u001b[?25l\u001b[?25herror\n",
            "\u001b[1;31merror\u001b[0m: \u001b[1mmetadata-generation-failed\u001b[0m\n",
            "\n",
            "\u001b[31m×\u001b[0m Encountered error while generating package metadata.\n",
            "\u001b[31m╰─>\u001b[0m See above for output.\n",
            "\n",
            "\u001b[1;35mnote\u001b[0m: This is an issue with the package mentioned above, not pip.\n",
            "\u001b[1;36mhint\u001b[0m: See above for details.\n",
            "Requirement already satisfied: gensim in /usr/local/lib/python3.10/dist-packages (4.3.2)\n",
            "Requirement already satisfied: numpy>=1.18.5 in /usr/local/lib/python3.10/dist-packages (from gensim) (1.23.5)\n",
            "Requirement already satisfied: scipy>=1.7.0 in /usr/local/lib/python3.10/dist-packages (from gensim) (1.11.3)\n",
            "Requirement already satisfied: smart-open>=1.8.1 in /usr/local/lib/python3.10/dist-packages (from gensim) (6.4.0)\n",
            "\u001b[33mWARNING: Running pip as the 'root' user can result in broken permissions and conflicting behaviour with the system package manager. It is recommended to use a virtual environment instead: https://pip.pypa.io/warnings/venv\u001b[0m\u001b[33m\n",
            "\u001b[0m"
          ]
        }
      ]
    },
    {
      "cell_type": "code",
      "execution_count": 81,
      "metadata": {
        "id": "AM558fpgFr34"
      },
      "outputs": [],
      "source": [
        "from konlpy.tag import Okt, Mecab\n",
        "from gensim.models import Word2Vec"
      ]
    },
    {
      "cell_type": "code",
      "source": [
        "import pandas as pd\n",
        "import nltk\n",
        "from nltk.tokenize import word_tokenize\n",
        "from nltk.corpus import stopwords\n",
        "import string\n",
        "import numpy as np\n",
        "\n",
        "# 데이터가 큰 경우 콘솔에 모두 출력하기 위해 옵션 설정\n",
        "pd.set_option('display.max_rows', None)\n",
        "pd.set_option('display.max_columns', None)\n",
        "pd.set_option('display.width', None)\n",
        "pd.set_option('display.max_colwidth', None)\n",
        "\n",
        "nltk.download('punkt')\n",
        "nltk.download('stopwords')"
      ],
      "metadata": {
        "id": "YIlymr-QMSh-",
        "colab": {
          "base_uri": "https://localhost:8080/"
        },
        "outputId": "3b2d2e86-0f27-42a2-e2e7-b3dcb7dcbb36"
      },
      "execution_count": 82,
      "outputs": [
        {
          "output_type": "stream",
          "name": "stderr",
          "text": [
            "[nltk_data] Downloading package punkt to /root/nltk_data...\n",
            "[nltk_data]   Package punkt is already up-to-date!\n",
            "[nltk_data] Downloading package stopwords to /root/nltk_data...\n",
            "[nltk_data]   Package stopwords is already up-to-date!\n"
          ]
        },
        {
          "output_type": "execute_result",
          "data": {
            "text/plain": [
              "True"
            ]
          },
          "metadata": {},
          "execution_count": 82
        }
      ]
    },
    {
      "cell_type": "code",
      "source": [
        "# 데이터가 큰 경우 콘솔에 모두 출력하기 위해 옵션 설정\n",
        "pd.set_option('display.max_rows', None)\n",
        "pd.set_option('display.max_columns', None)\n",
        "pd.set_option('display.width', None)\n",
        "pd.set_option('display.max_colwidth', None)\n",
        "\n",
        "# 데이터 로드\n",
        "games = pd.read_csv('game.csv')\n",
        "tags = pd.read_csv('mechanism.csv')\n",
        "game_tags = pd.read_csv('game_tag_cross.csv')\n",
        "with open('stopwords.txt', 'r', encoding='utf-8') as f:\n",
        "    stopwords = [line.strip() for line in f]\n",
        "\n",
        "# 태그 ID와 게임 ID를 기반으로 게임 데이터와 태그 데이터 합치기\n",
        "merged = pd.merge(game_tags, games, on='game_id')\n",
        "merged = pd.merge(merged, tags, left_on='tag_id', right_on='tag_id')\n",
        "\n",
        "# 한글 형태소 분석기 초기화\n",
        "okt = Okt()\n",
        "\n",
        "# 게임 별로 문서 생성\n",
        "documents = {}\n",
        "for game_id, game_data in merged.groupby('game_id'):\n",
        "    text = game_data['game_title_eng'].iloc[0] + ' ' + ' '.join(game_data['description'])\n",
        "    text = text.lower()\n",
        "    text = ''.join([char for char in text if char not in string.punctuation])\n",
        "\n",
        "    # 한글 토큰화\n",
        "    tokens = okt.morphs(text)\n",
        "\n",
        "    # 한글 불용어 제거 (한글 불용어 리스트 필요)\n",
        "    tokens = [word for word in tokens if word not in stopwords]\n",
        "    documents[game_id] = tokens\n"
      ],
      "metadata": {
        "id": "P-DP-co2o1la"
      },
      "execution_count": 83,
      "outputs": []
    },
    {
      "cell_type": "code",
      "source": [
        "game_vectors = {}\n",
        "for game_id, tokens in documents.items():\n",
        "    vectors = [model.wv[token] for token in tokens if token in model.wv]\n",
        "    if vectors:\n",
        "        game_vector = np.mean(vectors, axis=0)\n",
        "        game_vectors[game_id] = game_vector"
      ],
      "metadata": {
        "id": "puzq-1pH8WC3"
      },
      "execution_count": 84,
      "outputs": []
    },
    {
      "cell_type": "code",
      "source": [
        "user_input = input(\"클라이언트 입력:\")"
      ],
      "metadata": {
        "colab": {
          "base_uri": "https://localhost:8080/"
        },
        "id": "TWBSr9Ih4cjO",
        "outputId": "11576f93-62fc-4e7a-81af-60b5581544cf"
      },
      "execution_count": 85,
      "outputs": [
        {
          "name": "stdout",
          "output_type": "stream",
          "text": [
            "클라이언트 입력:보석으로 카드를 구매하고 점수를 모으는 것을 좋아해. 세트를 모아서 시너지를 내는 것도 좋아해.\n"
          ]
        }
      ]
    },
    {
      "cell_type": "code",
      "source": [
        "from gensim.models import Word2Vec\n",
        "\n",
        "# Word2Vec 모델 학습\n",
        "model = Word2Vec(sentences=list(documents.values()), vector_size=100, window=5, min_count=1, workers=4)\n",
        "model.save(\"word2vec.model\")"
      ],
      "metadata": {
        "id": "dWcgkYrN4Tt3"
      },
      "execution_count": 86,
      "outputs": []
    },
    {
      "cell_type": "code",
      "source": [
        "# 한글 불용어 제거\n",
        "user_input = [word for word in user_input if word not in stopwords]\n"
      ],
      "metadata": {
        "id": "P9fYYqj44fvG"
      },
      "execution_count": 87,
      "outputs": []
    },
    {
      "cell_type": "code",
      "source": [
        "user_vectors = [model.wv[token] for token in user_input if token in model.wv]\n",
        "if user_vectors:\n",
        "    user_vector = np.mean(user_vectors, axis=0)\n",
        "else:\n",
        "    print(\"입력하신 내용을 바탕으로 추천을 할 수 없습니다.\")\n",
        "    exit()"
      ],
      "metadata": {
        "id": "if9WGbFg4lt2"
      },
      "execution_count": 110,
      "outputs": []
    },
    {
      "cell_type": "code",
      "source": [
        "from sklearn.metrics.pairwise import cosine_similarity\n",
        "\n",
        "# 모든 게임에 대한 유사도 계산\n",
        "similarities = {game_id: cosine_similarity([game_vector], [user_vector])[0][0] ** 2 for game_id, game_vector in game_vectors.items()}\n",
        "# 유사도에 따라 게임 정렬\n",
        "recommended_games = sorted(similarities.items(), key=lambda x: x[1], reverse=True)\n",
        "\n",
        "print(recommended_games[70])\n",
        "\n",
        "#상위 3개 게임 추천\n",
        "for game_id, similarity in recommended_games[:345]:\n",
        "    game_row = games[games['game_id'] == game_id]\n",
        "    if not game_row.empty:\n",
        "        print(game_row['game_title_eng'].values[0], similarity)\n",
        "    else:\n",
        "        print(\"게임 ID {}를 찾을 수 없습니다.\".format(game_id))\n"
      ],
      "metadata": {
        "colab": {
          "base_uri": "https://localhost:8080/"
        },
        "id": "osOvT0s14oSo",
        "outputId": "723f9961-19ac-4aca-f432-890e121bdf67"
      },
      "execution_count": 116,
      "outputs": [
        {
          "output_type": "stream",
          "name": "stdout",
          "text": [
            "(344, 0.8259842962772304)\n",
            "Scribble Time 0.8958988141276372\n",
            "Pandemic 0.8907639011405344\n",
            "Stockpile: Illicit Investments 0.8892682580331126\n",
            "Stockpile: Continuing Corruption 0.8892457750597629\n",
            "Century : A New World 0.8873688879900534\n",
            "Terra Mystica 0.8872222361788751\n",
            "Puerto Rico 0.8866538223178964\n",
            "Century: Eastern Wonders 0.8810279268721253\n",
            "Dekalko 0.8808492419811955\n",
            "one card classic 0.8749630298953868\n",
            "Terraforming Mars: Colonies 0.8735271769539033\n",
            "Paranormal Detectives 0.8705605698857113\n",
            "Raptor 0.8699859556570324\n",
            "Blue Lagoon 0.8681266281646458\n",
            "Ticket to Ride - Nordic Countries 0.8635717001248544\n",
            "Just One 0.8631843477487564\n",
            "Fake Artist Goes to New York 0.8626411817791144\n",
            "Imhotep 0.8602215501231427\n",
            "Ticket to Ride - Europe 0.8601174016239952\n",
            "Ticket to Ride 0.8601065670042232\n",
            "Gemblo 0.8598440141771881\n",
            "Mr. Jack in New York 0.859745415215972\n",
            "Mr. Jack 0.8595097733391732\n",
            "Terraforming Mars 0.8586449616350365\n",
            "Wandering Towers 0.857951504400777\n",
            "Unmatched: Battle of Legends, Volume One 0.8565523012230756\n",
            "At the Gates of Loyang 0.8540897800913285\n",
            "Wits & Wagers Family 0.8520264490298359\n",
            "The Mole in the Hole 0.8520119242780879\n",
            "Monopoly 0.8516665577581684\n",
            "Catan: Cities & Knights 0.8513621783646528\n",
            "Vabanque 0.8506730981789588\n",
            "Telestrations 0.8503474602864713\n",
            "Tikal 0.8496668124678628\n",
            "Mafia de Cuba : Revolucion 0.8485309918343695\n",
            "Black Hats 0.8483579392765286\n",
            "Battle Sheep 0.8476560276490694\n",
            "Abalone 0.8472807108947542\n",
            "Arkham Horror 0.8461072303310893\n",
            "Istanbul 0.8451340058964298\n",
            "Santorini 0.8441014310717634\n",
            "Decrypto 0.8438292870478428\n",
            "Catan: Seafarers 0.843103200383414\n",
            "when i dream 0.8416538238151503\n",
            "Compact Curling 0.8414073340102277\n",
            "Terraforming Mars: Prelude 0.8413896196294814\n",
            "Skippity 0.8395254045154275\n",
            "Dead of Winter: A Crossroads Game 0.839120879229597\n",
            "Penguin Trap 0.8390138667093652\n",
            "Terraforming Mars: Venus Next 0.8387457102107874\n",
            "Five Tribes 0.8381460071576754\n",
            "Sheriff of Nottingham 0.8374064433164676\n",
            "Diamond Game 0.8360786016521651\n",
            "Manila 0.8360268266006301\n",
            "The Resitance : Avalon 0.8353497565508441\n",
            "Catan 0.8350885046290877\n",
            "Bang! Dodge City 0.8341459189807807\n",
            "Super Rhino 0.8337961379084824\n",
            "Dying Message : The Novelist's Last Sentence 0.833208653426599\n",
            "Tales & Games: The Hare and the Tortoise 0.8329079171415152\n",
            "Twilight Struggle 0.8314689648638343\n",
            "Tally ho! 0.8314527685092941\n",
            "Dune: Imperium 0.8308445954771884\n",
            "Coup: Reformation 0.8306392406266241\n",
            "Citadels 0.8298859470053834\n",
            "Mafia de Cuba 0.8294240380880389\n",
            "Disc Cover 0.8293790918998276\n",
            "Cartographers: A Roll Player Tale 0.8280990714075784\n",
            "Anomia 0.8278786539189156\n",
            "13 Clues 0.8275654338740566\n",
            "Quoridor 0.8259842962772304\n",
            "Unanimo 0.8254250223336044\n",
            "Concept 0.8249362054949785\n",
            "Kahuna 0.8237870712223447\n",
            "Jenga 0.8230159111647026\n",
            "I'm the boss 0.8226214384251307\n",
            "Spyfall 0.822514834558902\n",
            "Arrest a Burglar 0.8220354188107173\n",
            "BANG! 0.8209391795289243\n",
            "Codenames Pictures 0.8207203650328019\n",
            "Saboteur 0.8207183131099214\n",
            "Wizard 0.8204857064818185\n",
            "Gemblo Q 0.8204027795006965\n",
            "The Magic Labyrinth 0.8200422902122604\n",
            "Chinatown 0.819082559500103\n",
            "Codenames 0.8190414546124067\n",
            "Century Spice Road 0.8175990139301668\n",
            "Deception: Murder in Hong Kong 0.8175415626303675\n",
            "7 Wonders Duel 0.817282140719616\n",
            "Nidavellir 0.8148245818688906\n",
            "will you marry me 0.8144302484480228\n",
            "Halli Galli 0.8127189908927903\n",
            "The Resistance: Coup 0.8125781060820181\n",
            "Speedy Pickers 0.8125329739429255\n",
            "Shark mania 0.8117703229693376\n",
            "Sleeping Queens 0.8112655954086136\n",
            "Balance Game 0.8105539815788951\n",
            "Solenia 0.8096244913532615\n",
            "Hang on Harvey 0.8092087914445898\n",
            "Die portale von Molthar 0.8088647078717806\n",
            "5-minute dungeon 0.8088247178623078\n",
            "Celestia 0.8081742953827984\n",
            "Oriflamme 0.8079958715427757\n",
            "startups 0.8076121930759115\n",
            "Exploding Kitten 0.8074498991200905\n",
            "Lexio 0.806787073601086\n",
            "Welcome Back to the Dungeon 0.8065250814547689\n",
            "Hanabi 0.8053008031373601\n",
            "Imagine 0.8048944499571462\n",
            "Winner's Circle 0.8044007389295338\n",
            "Bang The Dice Game 0.8043103966915766\n",
            "wingspan 0.8033962477522358\n",
            "Clue 0.8032038222163465\n",
            "Raon 0.8027375450076626\n",
            "No thanks 0.8024416120179012\n",
            "The Crew: The Quest for Planet Nine 0.8011091483041675\n",
            "Dobble 0.8009418547034421\n",
            "Dobble Animals 0.8009398276559665\n",
            "Spyfall 2 0.8007250818423337\n",
            "The Quacks of Quedlinburg 0.7996509318537051\n",
            "Ubongo 0.7990642023044394\n",
            "Stratego 0.7982974621273939\n",
            "7 Wonders 0.7973835441202972\n",
            "Cascadia 0.7971507559983024\n",
            "Fugitive 0.7971168039179908\n",
            "Chess and Checker 0.7966510203414714\n",
            "If Card 0.7963696155567881\n",
            "Tichu 0.7963248294377223\n",
            "Dead Man's Draw 0.7963185530988461\n",
            "One Night Ultimate Werewolf 0.7962159012363514\n",
            "Xiangqi 0.7959715845109407\n",
            "Dream Home 0.7957567614276719\n",
            "Dixit: Quest 0.7935468328476567\n",
            "Showdown Tactics 0.7931141548783813\n",
            "No Touch Kraken 0.792293399836641\n",
            "Love Letter 0.7916213405113837\n",
            "Fold-it 0.7912815472651715\n",
            "Lost Cities 0.791268292140618\n",
            "Pit 0.7909882638216459\n",
            "Manhattan 0.7896626991333164\n",
            "Sequence 0.7895594179212004\n",
            "Uno 0.7886929693534661\n",
            "Potion Explosion 0.7875626001778215\n",
            "Karuba 0.7863242635503411\n",
            "Dixit: Memories 0.7860008280409261\n",
            "5-Minute Marvel 0.7857567100110288\n",
            "Agricola 0.7851277788664426\n",
            "Taco Cat Goat Cheese Pizza 0.7848991102591754\n",
            "Kakerlaken Poker 0.781571296980875\n",
            "Dixit: Revelations 0.7813411448188425\n",
            "KeyForge: Dark Tidings 0.7806933389261417\n",
            "Incan Gold 0.7802123728524499\n",
            "Yinsh 0.7796459771474282\n",
            "Qwirkle 0.7794234757130916\n",
            "Donkey Derby 0.7791113536258685\n",
            "Yahtzee 0.7787685754444773\n",
            "Targi 0.7785120146238569\n",
            "The Smurfs: Snakes & Ladders 0.7769284593773627\n",
            "Pie Face 0.7753321357238327\n",
            "Word Capture Tiki-Taka 0.7740621321212906\n",
            "Spicy 0.7735893994750178\n",
            "Patchwork 0.7735762933734804\n",
            "Codename Duet 0.7728808856535494\n",
            "Paris: La cité de la lumière 0.772024163535523\n",
            "The game card game 0.7711229026046027\n",
            "Incognito 0.7708446830193338\n",
            "Loopin' Louie 0.7703816184233325\n",
            "Thematik 0.7698743431082136\n",
            "Hands 0.7696589925528805\n",
            "Dixit 0.7677807911722176\n",
            "First Contact 0.7673413079597005\n",
            "Toc Toc Woodman 0.7671963729359312\n",
            "Nori Labirint 0.766985364499817\n",
            "6 nimmt! 0.7665381768683801\n",
            "Mr. Jack Pocket 0.76601870947799\n",
            "Cities of Splendor 0.7655716994740978\n",
            "Bounce Off 0.7650509956874885\n",
            "Muffin Time 0.7632516417567423\n",
            "Dollars to Donuts 0.7631506231587402\n",
            "Minivilles green valley 0.7625753612103523\n",
            "Schotten Totten 0.7623718589352144\n",
            "Jaipur 0.7621318548429521\n",
            "Abraca...what? 0.7613168932593908\n",
            "Sagrada 0.7599213501271187\n",
            "Camel Up (Second Edition) 0.7596069241523118\n",
            "Ghost Blitz 0.7586870876721754\n",
            "Gonggi 0.7582931909269952\n",
            "Halli Galli Extreme 0.7579250304678595\n",
            "Furnace 0.7569045716354736\n",
            "Kushi Express 0.7567649811881552\n",
            "The Great Dalmuti 0.75651891437548\n",
            "Go 0.7563804999372223\n",
            "Viva Topo 0.7560762400597163\n",
            "Bonanza 0.7559353786201797\n",
            "5 Second Rule 0.7553993130692085\n",
            "Dr. Eureka 0.7535920000983118\n",
            "Grabolo Junior 0.75350673070648\n",
            "Ramen Fury 0.7530116633881931\n",
            "Sleuth 0.7526519234545503\n",
            "Ganz schön clever 0.7508789946514902\n",
            "Tripolo 0.7506676602756137\n",
            "Don't Rock the Boat 0.7475555307820656\n",
            "Kakerlakensalat 0.7473100384524969\n",
            "Dominion 0.747294168379554\n",
            "Splendor duel 0.7470922003534639\n",
            "Splendor 0.7470639682224487\n",
            "Unlock!: Exotic Adventures 0.7465134452923508\n",
            "Chairs 0.7453318048748123\n",
            "Shark 0.7452789067423602\n",
            "Color smash 0.7447448848587932\n",
            "Coconuts 0.7442710107554831\n",
            "Rummikub 0.7442429348221289\n",
            "Ciao Ciao 0.7437080506393592\n",
            "Cockroach Poker Royal 0.7418037931934265\n",
            "Sushi Go 0.7416613931106077\n",
            "Pharaoh Code 0.7406924706549631\n",
            "Strike 0.7395529686775468\n",
            "For Sale 0.7394630642384215\n",
            "Star Wars : The Deckbuilding Game 0.7387606241829872\n",
            "Quarto 0.7385697501853237\n",
            "Parade 0.7380275894902866\n",
            "Prohis 0.7375171591861296\n",
            "Unlock!: Escape Adventures 0.7373824391410757\n",
            "Marakesz 0.735646308188084\n",
            "Cubirds 0.735567785662429\n",
            "Rat-A-Tat Cat 0.7349546770943824\n",
            "Ghosts 0.7349529397374823\n",
            "Carcassonne 0.7333597289916725\n",
            "Rush Hour Shift 0.7329205162457164\n",
            "Concerto Grosso 0.7322507737394837\n",
            "Schotten Totten 2 0.728837956096541\n",
            "Blitz 0.7285187342925816\n",
            "High Society 0.7281607232986431\n",
            "Kuhhandel Master 0.7281598077823084\n",
            "Pinata 0.7273420747665682\n",
            "Yutnori 0.7272231293914189\n",
            "Pyramid Poke 0.7267399249039954\n",
            "Skull King 0.72657072949767\n",
            "Lady Godiva 0.7262110641850974\n",
            "Bugs in the Kitchen 0.7258649958089904\n",
            "Loco Lama 0.725711439788995\n",
            "Shark attack 0.7250120108622902\n",
            "My neighbor Monster 0.7248344914206797\n",
            "Dominion: Intrigue 0.7240934887249786\n",
            "Modern Art 0.7224292140656452\n",
            "Crime Hotel 0.7222032815939805\n",
            "Circus Flohcati 0.7214939010374657\n",
            "Coloretto 0.7214459058656395\n",
            "OX Quiz 0.721142783377676\n",
            "Unlock!: Timeless Adventures 0.7209569321546248\n",
            "Archaeology: The New Expedition 0.7207145315106942\n",
            "Lobo 77 0.7193679518596952\n",
            "Brain Storm 0.7184583684160408\n",
            "Pickomino 0.7171401462156304\n",
            "Penguin party 0.7165043946443461\n",
            "MasKmen 0.716414388793055\n",
            "Unlock!: Heroic Adventures 0.7130181857526487\n",
            "Unlock!: Mystery Adventures 0.7130103342314023\n",
            "Unlock!: Secret Adventures 0.713004697268449\n",
            "Schau mal 0.7129693660974681\n",
            "MAHE 0.7081045682547007\n",
            "Can't Stop 0.706406980706916\n",
            "Tumblin' Monkeys 0.7060643620349225\n",
            "Mogel Motte 0.7049693414978861\n",
            "Blue Marble 0.7030525015153586\n",
            "Topito 0.7028432115860141\n",
            "Enigma 0.7026734237883581\n",
            "Beware of the Dog 0.7026577351919059\n",
            "The mind 0.7016721032597708\n",
            "Tarantel Tango 0.7010927544729526\n",
            "Metro 0.6998448184450723\n",
            "SET 0.6987097920523979\n",
            "Majesty: For the Realm 0.6976972607154188\n",
            "Cottage Garden 0.6974807052413325\n",
            "Eco Links 0.6947833050637655\n",
            "Jolly & Roger 0.6890488906237948\n",
            "Hands Up 0.6846894448243326\n",
            "La Boca 0.682275269769864\n",
            "Vampire Queen 0.6817553655724282\n",
            "Latice Hawaii 0.6753780556572089\n",
            "Minivilles 0.6752339526389193\n",
            "Tumblin Dice 0.6749519627405256\n",
            "illusion 0.6746001211781874\n",
            "Drecksau 0.6733834356107451\n",
            "Tetris Link 0.6733823595573405\n",
            "Streams 0.6703516015410429\n",
            "Zooloretto 0.6590731492316628\n",
            "Qwixx 0.657608647094321\n",
            "Otrio 0.6559780548497116\n",
            "Voodoo Prince 0.6480974659673535\n",
            "What the Heck? 0.6441102578549227\n",
            "Azul 0.6425164687654075\n",
            "Quixo 0.6274269619302721\n",
            "Corinth 0.6256240609668708\n",
            "Take it easy! 0.6246658733746244\n",
            "Cash 0.6196554593361867\n",
            "Las Vegas 0.6185464926751685\n",
            "Sherlock 13 0.6181857745154709\n",
            "Timeline: Korean History 0.6155552890800777\n",
            "Staxis 0.6024083415218264\n",
            "Hexxpeed 0.5924934973106453\n",
            "Present 0.5924751455166053\n",
            "Jekyll vs Hyde 0.5654994790129422\n",
            "DaVinci Code 0.5539488744382801\n"
          ]
        }
      ]
    },
    {
      "cell_type": "code",
      "source": [
        "from google.colab import files\n",
        "files.download('game_tag_cross.csv')\n"
      ],
      "metadata": {
        "colab": {
          "base_uri": "https://localhost:8080/",
          "height": 17
        },
        "id": "pacYMmD5FDKo",
        "outputId": "dcad84af-ef8e-4dc4-e4c6-6e1745f67d55"
      },
      "execution_count": 119,
      "outputs": [
        {
          "output_type": "display_data",
          "data": {
            "text/plain": [
              "<IPython.core.display.Javascript object>"
            ],
            "application/javascript": [
              "\n",
              "    async function download(id, filename, size) {\n",
              "      if (!google.colab.kernel.accessAllowed) {\n",
              "        return;\n",
              "      }\n",
              "      const div = document.createElement('div');\n",
              "      const label = document.createElement('label');\n",
              "      label.textContent = `Downloading \"${filename}\": `;\n",
              "      div.appendChild(label);\n",
              "      const progress = document.createElement('progress');\n",
              "      progress.max = size;\n",
              "      div.appendChild(progress);\n",
              "      document.body.appendChild(div);\n",
              "\n",
              "      const buffers = [];\n",
              "      let downloaded = 0;\n",
              "\n",
              "      const channel = await google.colab.kernel.comms.open(id);\n",
              "      // Send a message to notify the kernel that we're ready.\n",
              "      channel.send({})\n",
              "\n",
              "      for await (const message of channel.messages) {\n",
              "        // Send a message to notify the kernel that we're ready.\n",
              "        channel.send({})\n",
              "        if (message.buffers) {\n",
              "          for (const buffer of message.buffers) {\n",
              "            buffers.push(buffer);\n",
              "            downloaded += buffer.byteLength;\n",
              "            progress.value = downloaded;\n",
              "          }\n",
              "        }\n",
              "      }\n",
              "      const blob = new Blob(buffers, {type: 'application/binary'});\n",
              "      const a = document.createElement('a');\n",
              "      a.href = window.URL.createObjectURL(blob);\n",
              "      a.download = filename;\n",
              "      div.appendChild(a);\n",
              "      a.click();\n",
              "      div.remove();\n",
              "    }\n",
              "  "
            ]
          },
          "metadata": {}
        },
        {
          "output_type": "display_data",
          "data": {
            "text/plain": [
              "<IPython.core.display.Javascript object>"
            ],
            "application/javascript": [
              "download(\"download_b5d4cbc9-c633-477a-84a6-12e638a875f4\", \"game_tag_cross.csv\", 20649)"
            ]
          },
          "metadata": {}
        }
      ]
    },
    {
      "cell_type": "code",
      "source": [
        "files.download('mechanism.csv')\n",
        "files.download('game.csv')"
      ],
      "metadata": {
        "colab": {
          "base_uri": "https://localhost:8080/",
          "height": 17
        },
        "id": "i8jN3Z7fFXbh",
        "outputId": "9d76c768-17f0-4f86-ced0-aa792a1ec16f"
      },
      "execution_count": 120,
      "outputs": [
        {
          "output_type": "display_data",
          "data": {
            "text/plain": [
              "<IPython.core.display.Javascript object>"
            ],
            "application/javascript": [
              "\n",
              "    async function download(id, filename, size) {\n",
              "      if (!google.colab.kernel.accessAllowed) {\n",
              "        return;\n",
              "      }\n",
              "      const div = document.createElement('div');\n",
              "      const label = document.createElement('label');\n",
              "      label.textContent = `Downloading \"${filename}\": `;\n",
              "      div.appendChild(label);\n",
              "      const progress = document.createElement('progress');\n",
              "      progress.max = size;\n",
              "      div.appendChild(progress);\n",
              "      document.body.appendChild(div);\n",
              "\n",
              "      const buffers = [];\n",
              "      let downloaded = 0;\n",
              "\n",
              "      const channel = await google.colab.kernel.comms.open(id);\n",
              "      // Send a message to notify the kernel that we're ready.\n",
              "      channel.send({})\n",
              "\n",
              "      for await (const message of channel.messages) {\n",
              "        // Send a message to notify the kernel that we're ready.\n",
              "        channel.send({})\n",
              "        if (message.buffers) {\n",
              "          for (const buffer of message.buffers) {\n",
              "            buffers.push(buffer);\n",
              "            downloaded += buffer.byteLength;\n",
              "            progress.value = downloaded;\n",
              "          }\n",
              "        }\n",
              "      }\n",
              "      const blob = new Blob(buffers, {type: 'application/binary'});\n",
              "      const a = document.createElement('a');\n",
              "      a.href = window.URL.createObjectURL(blob);\n",
              "      a.download = filename;\n",
              "      div.appendChild(a);\n",
              "      a.click();\n",
              "      div.remove();\n",
              "    }\n",
              "  "
            ]
          },
          "metadata": {}
        },
        {
          "output_type": "display_data",
          "data": {
            "text/plain": [
              "<IPython.core.display.Javascript object>"
            ],
            "application/javascript": [
              "download(\"download_c3c76fb6-8d8d-4f9d-8d3a-f683d2e20ac7\", \"mechanism.csv\", 100589)"
            ]
          },
          "metadata": {}
        },
        {
          "output_type": "display_data",
          "data": {
            "text/plain": [
              "<IPython.core.display.Javascript object>"
            ],
            "application/javascript": [
              "\n",
              "    async function download(id, filename, size) {\n",
              "      if (!google.colab.kernel.accessAllowed) {\n",
              "        return;\n",
              "      }\n",
              "      const div = document.createElement('div');\n",
              "      const label = document.createElement('label');\n",
              "      label.textContent = `Downloading \"${filename}\": `;\n",
              "      div.appendChild(label);\n",
              "      const progress = document.createElement('progress');\n",
              "      progress.max = size;\n",
              "      div.appendChild(progress);\n",
              "      document.body.appendChild(div);\n",
              "\n",
              "      const buffers = [];\n",
              "      let downloaded = 0;\n",
              "\n",
              "      const channel = await google.colab.kernel.comms.open(id);\n",
              "      // Send a message to notify the kernel that we're ready.\n",
              "      channel.send({})\n",
              "\n",
              "      for await (const message of channel.messages) {\n",
              "        // Send a message to notify the kernel that we're ready.\n",
              "        channel.send({})\n",
              "        if (message.buffers) {\n",
              "          for (const buffer of message.buffers) {\n",
              "            buffers.push(buffer);\n",
              "            downloaded += buffer.byteLength;\n",
              "            progress.value = downloaded;\n",
              "          }\n",
              "        }\n",
              "      }\n",
              "      const blob = new Blob(buffers, {type: 'application/binary'});\n",
              "      const a = document.createElement('a');\n",
              "      a.href = window.URL.createObjectURL(blob);\n",
              "      a.download = filename;\n",
              "      div.appendChild(a);\n",
              "      a.click();\n",
              "      div.remove();\n",
              "    }\n",
              "  "
            ]
          },
          "metadata": {}
        },
        {
          "output_type": "display_data",
          "data": {
            "text/plain": [
              "<IPython.core.display.Javascript object>"
            ],
            "application/javascript": [
              "download(\"download_6909bc80-6256-43af-9cc1-d7344ba902ad\", \"game.csv\", 14759)"
            ]
          },
          "metadata": {}
        }
      ]
    },
    {
      "cell_type": "code",
      "source": [],
      "metadata": {
        "id": "cRXPM1KQFWJZ"
      },
      "execution_count": null,
      "outputs": []
    }
  ]
}